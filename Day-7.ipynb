{
 "cells": [
  {
   "cell_type": "markdown",
   "id": "ef809315",
   "metadata": {},
   "source": [
    "# Inheritance"
   ]
  },
  {
   "cell_type": "markdown",
   "id": "10149700",
   "metadata": {},
   "source": [
    "Inheritance is the process by which the child or derived class inherits the characteristics of the parent or base class."
   ]
  },
  {
   "cell_type": "code",
   "execution_count": null,
   "id": "341579f4",
   "metadata": {},
   "outputs": [],
   "source": []
  }
 ],
 "metadata": {
  "kernelspec": {
   "display_name": "Python 3 (ipykernel)",
   "language": "python",
   "name": "python3"
  },
  "language_info": {
   "codemirror_mode": {
    "name": "ipython",
    "version": 3
   },
   "file_extension": ".py",
   "mimetype": "text/x-python",
   "name": "python",
   "nbconvert_exporter": "python",
   "pygments_lexer": "ipython3",
   "version": "3.9.12"
  }
 },
 "nbformat": 4,
 "nbformat_minor": 5
}
